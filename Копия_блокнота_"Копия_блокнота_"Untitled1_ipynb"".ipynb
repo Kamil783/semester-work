{
  "nbformat": 4,
  "nbformat_minor": 0,
  "metadata": {
    "colab": {
      "name": "Копия блокнота \"Копия блокнота \"Untitled1.ipynb\"\"",
      "provenance": [],
      "collapsed_sections": [],
      "toc_visible": true,
      "authorship_tag": "ABX9TyPpTiFz769FIpSSwFx6IAH9",
      "include_colab_link": true
    },
    "kernelspec": {
      "name": "python3",
      "display_name": "Python 3"
    },
    "language_info": {
      "name": "python"
    }
  },
  "cells": [
    {
      "cell_type": "markdown",
      "metadata": {
        "id": "view-in-github",
        "colab_type": "text"
      },
      "source": [
        "<a href=\"https://colab.research.google.com/github/Kamil783/semester_work/blob/main/%D0%9A%D0%BE%D0%BF%D0%B8%D1%8F_%D0%B1%D0%BB%D0%BE%D0%BA%D0%BD%D0%BE%D1%82%D0%B0_%22%D0%9A%D0%BE%D0%BF%D0%B8%D1%8F_%D0%B1%D0%BB%D0%BE%D0%BA%D0%BD%D0%BE%D1%82%D0%B0_%22Untitled1_ipynb%22%22.ipynb\" target=\"_parent\"><img src=\"https://colab.research.google.com/assets/colab-badge.svg\" alt=\"Open In Colab\"/></a>"
      ]
    },
    {
      "cell_type": "code",
      "metadata": {
        "colab": {
          "base_uri": "https://localhost:8080/",
          "height": 586
        },
        "id": "eKxwPDrNEXk4",
        "outputId": "73012e02-5641-4fe8-f935-f255319401fe"
      },
      "source": [
        "import matplotlib.pyplot as plt\n",
        "import numpy as np\n",
        "from scipy import stats\n",
        "def NormalRaspr(nr,n,step=1):\n",
        "    i=0.0\n",
        "    nf=[]\n",
        "    for el in nr:\n",
        "        el*=step\n",
        "        nf.append(el+i)\n",
        "        i+=el\n",
        "    return nf\n",
        "def EFRHelp(d):\n",
        "    i=0\n",
        "    for key in d:\n",
        "        d[key]+=i\n",
        "        i=d[key]\n",
        "    return d\n",
        "def CreateEFR(nums):\n",
        "    d={}\n",
        "    for num in nums:\n",
        "        if num in d:\n",
        "            d[num]+=1\n",
        "        else:\n",
        "            d[num]=1\n",
        "    return d\n",
        "def CreateGist(min,max,nums):\n",
        "    d={}\n",
        "    for num in nums:\n",
        "        n1=int(num)\n",
        "        if n1 in d:\n",
        "            d[n1]+=1\n",
        "        else:\n",
        "            d[n1]=1\n",
        "    return d\n",
        "def CreateGistK(nums,k=10):\n",
        "    range=nums[-1]-nums[0]\n",
        "    step=range/(k-1)\n",
        "    d={}\n",
        "    i=nums[0]+step/2\n",
        "\n",
        "    while(i-step<nums[-1]):\n",
        "        d[i]=0\n",
        "        i+=step\n",
        "\n",
        "    i = nums[0] + step / 2\n",
        "    for num in nums:\n",
        "        if(num<i):\n",
        "            d[i] += 1\n",
        "        else:\n",
        "            while not (num<(i)):\n",
        "                i+=step\n",
        "            d[i] += 1\n",
        "\n",
        "    return d\n",
        "def FindMode(nums):\n",
        "    numsCount={}\n",
        "    for n in nums:\n",
        "        if n not in numsCount:\n",
        "            numsCount[n] = 1\n",
        "        else:\n",
        "            numsCount[n] += 1\n",
        "    max=0\n",
        "    mode=None\n",
        "    for k,v in numsCount.items():\n",
        "        if max < v:\n",
        "            max = v\n",
        "            mode = k\n",
        "    print(\"Мода - \",mode,\" встречается \",max,\" раз\")\n",
        "\n",
        "def Excess(nums,S,e):\n",
        "    exc=0.0\n",
        "    for num in nums:\n",
        "        exc += (num - e) ** 4\n",
        "    exc=exc/(len(nums)*(S**4))-3\n",
        "    return exc\n",
        "def Asymm(nums,e,S):\n",
        "    g = 0.0\n",
        "    for num in nums:\n",
        "        g += (num - e) ** 3\n",
        "    return g/(len(nums)*(S**3))\n",
        "def FindD (nums,e):\n",
        "    d=0.0\n",
        "    for num in nums:\n",
        "        d+=(num-e)**2\n",
        "    return d/len(nums)\n",
        "def FindE (nums):\n",
        "    sum=0.0\n",
        "    for num in nums:\n",
        "        sum+=num\n",
        "    return sum/len(nums)\n",
        "def nDist(x , mean , sd):\n",
        "    dens = (1/( sd*((2*np.pi)**0.5))) * np.exp(-0.5 * ((x - mean) / sd) ** 2)\n",
        "    return dens\n",
        "\n",
        "import csv\n",
        "alpha=0.025\n",
        "x=[]\n",
        "y=[]\n",
        "d=[]\n",
        "with open(\"r2z1.csv\",\"r\") as f:\n",
        "    reader=csv.DictReader(f)\n",
        "    for line in reader:\n",
        "      curx=float(line['X'])\n",
        "      cury=float(line['Y'])\n",
        "      x.append(curx)\n",
        "      y.append(cury)\n",
        "      d.append(cury-curx)\n",
        "print(\"n=\",n)\n",
        "\n",
        "\n",
        "\n",
        "\n",
        "crit=2.3032710152426707\n",
        "m0=0\n",
        "mx=FindE(x)\n",
        "my=FindE(y)\n",
        "md=FindE(d)\n",
        "Sd=FindD(d,md)\n",
        "\n",
        "statist,pival=stats.ttest_1samp(d, m0)#\n",
        "#print(\"statist=\",statist)\n",
        "#print(\"pi-value=\",pival)\n",
        "T=((n-1)**0.5*(md-m0))/(Sd**0.5)#\n",
        "print(\"T=\",T)\n",
        "p = 1 - (stats.norm.cdf(T) - stats.norm.cdf(-T))\n",
        "print(\"p-value=\", p)\n",
        "if T>crit:\n",
        "  \"Нулевая гипотеза не принята а т.к. T>crit , следовательно данные возросли\"\n",
        "else:\n",
        "  \"Нулевая гипотеза принята\"\n",
        "fig, ax = plt.subplots()\n",
        "plt.hist(x,alpha=0.6)\n",
        "plt.hist(y,alpha=0.6)\n",
        "# график 2 \n",
        "t = stats.t(df=2)\n",
        "fig, ax = plt.subplots()\n",
        "x = np.linspace(t.ppf(0.001), t.ppf(0.999), 300)\n",
        "ax.plot(x, t.pdf(x))\n",
        "ax.hlines(0, -10-T, T+10, lw=1, color='blue')\n",
        "ax.vlines([-T, T], 0, 0.4, color='g', lw=2)\n",
        "x_le_T, x_ge_T = x[x<-T], x[x>T]\n",
        "ax.fill_between(x_le_T, t.pdf(x_le_T), np.zeros(len(x_le_T)), alpha=0.3, color='b')\n",
        "ax.fill_between(x_ge_T, t.pdf(x_ge_T), np.zeros(len(x_ge_T)), alpha=0.3, color='b')\n",
        "\n",
        "p = 1 - (t.cdf(T) - t.cdf(-T))\n"
      ],
      "execution_count": null,
      "outputs": [
        {
          "output_type": "stream",
          "name": "stdout",
          "text": [
            "n= 57\n",
            "30.322807017543862\n",
            "T= 59.1480564104556\n",
            "p-value= 0.0\n"
          ]
        },
        {
          "output_type": "display_data",
          "data": {
            "image/png": "[encoded data removed]",
            "text/plain": [
              "<Figure size 432x288 with 1 Axes>"
            ]
          },
          "metadata": {
            "needs_background": "light"
          }
        },
        {
          "output_type": "display_data",
          "data": {
            "image/png": "[encoded data removed]",
            "text/plain": [
              "<Figure size 432x288 with 1 Axes>"
            ]
          },
          "metadata": {
            "needs_background": "light"
          }
        }
      ]
    },
    {
      "cell_type": "code",
      "metadata": {
        "colab": {
          "base_uri": "https://localhost:8080/",
          "height": 531
        },
        "id": "i-PbR92MRcDb",
        "outputId": "e83a9e5b-662d-43a4-8610-67386b0452ea"
      },
      "source": [
        "import matplotlib.pyplot as plt\n",
        "import numpy as np\n",
        "from scipy import stats\n",
        "import csv\n",
        "import seaborn as sns\n",
        "from scipy import integrate\n",
        "from scipy.stats import chi2_contingency\n",
        "def CreateGistK(nums,k=10):\n",
        "    crange=nums[-1]-nums[0]\n",
        "    step=crange/k\n",
        "    d={}\n",
        "    i=nums[0]+step\n",
        "\n",
        "    while(i-step<nums[-1]):\n",
        "        d[i]=0\n",
        "        i+=step\n",
        "    i = nums[0] + step \n",
        "    for num in nums:\n",
        "        if(num<i):\n",
        "            d[i] += 1\n",
        "        else:\n",
        "            while not (num<(i)):\n",
        "                i+=step\n",
        "            d[i] += 1\n",
        "\n",
        "    return d\n",
        "def NormalRaspr(nr,n,step=1):\n",
        "    i=0.0\n",
        "    nf=[]\n",
        "    for el in nr:\n",
        "        el*=step\n",
        "        nf.append(el+i)\n",
        "        i+=el\n",
        "    return nf\n",
        "def FindD (nums,e):\n",
        "    d=0.0\n",
        "    for num in nums:\n",
        "        d+=(num-e)**2\n",
        "    return d/len(nums)\n",
        "def FindE (nums):\n",
        "    sum=0.0\n",
        "    for num in nums:\n",
        "        sum+=num\n",
        "    return sum/len(nums)\n",
        "\n",
        "nums=[]\n",
        "alpha=0.1\n",
        "crit901=14.684\n",
        "with open(\"r2z2.csv\",\"r\") as f:\n",
        "    reader=csv.DictReader(f)\n",
        "    #sum=0.0\n",
        "    #print(nums)\n",
        "    for line in reader:\n",
        "        nums.append(float(line['X']))\n",
        "    nums.sort()\n",
        "    n=len(nums)\n",
        "    min=nums[0]\n",
        "    max=nums[-1]\n",
        "    rangev=nums[-1]-nums[0]\n",
        "    E=FindE(nums)\n",
        "    S=FindD(nums,E)\n",
        "    D=S*n/(n-1)\n",
        "    def nDist(x , mean=E , sd=D**0.5):\n",
        "      dens = (1/( sd*((2*np.pi)**0.5))) * np.exp(-0.5 * ((x - mean) / sd) ** 2)\n",
        "      return dens\n",
        "\n",
        "    intervals=CreateGistK(nums)\n",
        "    fig, ax = plt.subplots()\n",
        "    x = np.linspace(nums[0], nums[-1], n)\n",
        "    normalGraph=nDist(x,E,D**0.5)\n",
        "\n",
        "\n",
        "    #v, err = integrate.quad(nDist, min, max)\n",
        "    #print(v)\n",
        "\n",
        "    \n",
        "    normalFunc=NormalRaspr(normalGraph,n,rangev/n)\n",
        "    #plt.plot(x,normalFunc)\n",
        "    plt.plot(x, normalGraph, color=\"red\")\n",
        "    hy,hx,_=plt.hist((nums),bins=10,density=True)\n",
        "    chiIntervals=[]\n",
        "    i=0\n",
        "    Step=rangev/len(hy);\n",
        "    \n",
        "    \n",
        "    sum=0.0\n",
        "    ky=(max-min)/len(hy)\n",
        "    while(i<len(hy)):\n",
        "      cury=hy[i]*ky\n",
        "      v,err= integrate.quad(nDist, min+Step*i,min+Step*(i+1) )\n",
        "      sum+=hy[i]\n",
        "      chiIntervals.append(((cury-v)**2)*n/v)\n",
        "      i+=1\n",
        "    #print(chiIntervals)\n",
        "    T=0.0\n",
        "    for el in chiIntervals:\n",
        "      T+=el\n",
        "    print(\"T=\",T)\n",
        "    freecount=10-1\n",
        "    ci_right=stats.chi2.isf(df=freecount, q=alpha)\n",
        "    ci_left=stats.chi2.isf(df=freecount, q=(1-alpha))\n",
        "    #print(\"p crit=\",ci_right)\n",
        "    \n",
        "\n",
        "    fig, ax = plt.subplots()\n",
        "    x = np.linspace(stats.chi2.ppf(0.0,freecount ),stats.chi2.ppf(0.999, freecount), 100)\n",
        "    chiVal=stats.chi2.pdf(x,freecount)\n",
        "    plt.plot(x, chiVal, color=\"green\")\n",
        "    \n",
        "    ax.hlines(0, ci_left, ci_right, lw=1, color='blue')\n",
        "    ax.hlines(0, ci_right, 20, lw=2, color='red')\n",
        "    ax.hlines(0, 0, ci_left, lw=3, color='red')\n",
        "    ax.vlines([ci_right,ci_left], 0, 0.1, color='r', lw=4)\n",
        "    plt.fill_between(x,chiVal,color=\"orange\",where=(x>ci_right)|(x<ci_left))\n",
        "    plt.scatter(T, 0, color='orange', s=40)\n",
        "    "
      ],
      "execution_count": null,
      "outputs": [
        {
          "output_type": "stream",
          "name": "stdout",
          "text": [
            "T= 11.772444301739448\n"
          ]
        },
        {
          "output_type": "display_data",
          "data": {
            "image/png": "[encoded data removed]",
            "text/plain": [
              "<Figure size 432x288 with 1 Axes>"
            ]
          },
          "metadata": {
            "needs_background": "light"
          }
        },
        {
          "output_type": "display_data",
          "data": {
            "image/png": "[encoded data removed]",
            "text/plain": [
              "<Figure size 432x288 with 1 Axes>"
            ]
          },
          "metadata": {
            "needs_background": "light"
          }
        }
      ]
    }
  ]
}